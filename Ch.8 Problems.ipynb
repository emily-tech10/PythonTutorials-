{
 "cells": [
  {
   "cell_type": "markdown",
   "metadata": {},
   "source": [
    "# Question One \n",
    "## Write a function called display_message() that prints one sentence telling everyone what you are learning about in this chapter. Call the function, and make sure the message displays correctly. "
   ]
  },
  {
   "cell_type": "code",
   "execution_count": 1,
   "metadata": {},
   "outputs": [
    {
     "name": "stdout",
     "output_type": "stream",
     "text": [
      "In this chapter, I am learning about implementing functions in my python programs\n"
     ]
    }
   ],
   "source": [
    "def display_message():\n",
    "    print(\"In this chapter, I am learning about implementing functions in my python programs.\")\n",
    "\n",
    "display_message() # Calling the function "
   ]
  },
  {
   "cell_type": "markdown",
   "metadata": {},
   "source": [
    "# Question Two \n",
    "\n",
    "## Write a function called favorite_book() that accepts one parameter, title. The function should print a message about the book. Call the function, making sure to include a book title as an argument in the function call. "
   ]
  },
  {
   "cell_type": "code",
   "execution_count": 2,
   "metadata": {},
   "outputs": [
    {
     "name": "stdout",
     "output_type": "stream",
     "text": [
      "One of my favorite books is The Wizard Of Oz!\n"
     ]
    }
   ],
   "source": [
    "def favorite_book(title):\n",
    "    print(\"One of my favorite books is \" + title.title() + \"!\")\n",
    "\n",
    "favorite_book(\"The Wizard of Oz\")"
   ]
  },
  {
   "cell_type": "markdown",
   "metadata": {},
   "source": [
    "# Question Three \n",
    "\n",
    "## Write a function called make_shirt() that accepts a size and the text of a message that should be printed on the shirt. The function should print a sentence summarizing the size of the shirt and the message printed on it. \n",
    "\n",
    "### Call the function once using positional arguments to make a shirt. \n",
    "### Call the function a second time using keyword arguments. \n"
   ]
  },
  {
   "cell_type": "code",
   "execution_count": 6,
   "metadata": {},
   "outputs": [
    {
     "name": "stdout",
     "output_type": "stream",
     "text": [
      "The size of your shirt is: M , and you want the text on your shirt to say: Girls Who Code!\n",
      "The size of your shirt is: M , and you want the text on your shirt to say: Girls Who Code!\n"
     ]
    }
   ],
   "source": [
    "def make_shirt(size,text): \n",
    "    \n",
    "    print(\"The size of your shirt is: \" + size + \" ,\" + \" and you want the text on your shirt to say: \" + text.title())\n",
    "    \n",
    "make_shirt(\"M\", \"girls who code!\")\n",
    "make_shirt(size = \"M\", text = \"girls who code!\")"
   ]
  },
  {
   "cell_type": "markdown",
   "metadata": {},
   "source": [
    "# Question Four \n",
    "## Modify the make_shirt() function so that the shirts are large by default with a message that reads \"I love Python\". Make a large shirt and a medium shirt with the default message and a shirt of any size with a different message. "
   ]
  },
  {
   "cell_type": "code",
   "execution_count": 9,
   "metadata": {},
   "outputs": [
    {
     "name": "stdout",
     "output_type": "stream",
     "text": [
      "The size of your shirt is: L , and you want the text on your shirt to say: I love Python!\n",
      "The size of your shirt is: M , and you want the text on your shirt to say: I love Python!\n",
      "The size of your shirt is: S , and you want the text on your shirt to say: Java is pretty cool too!\n"
     ]
    }
   ],
   "source": [
    "def make_shirt(size = \"L\",text = \"I love Python!\"): \n",
    "    \n",
    "    print(\"The size of your shirt is: \" + size + \" ,\" + \" and you want the text on your shirt to say: \" + text)\n",
    "    \n",
    "#Large shirt w/ default message \n",
    "make_shirt()\n",
    "#Medium shirt w/default message \n",
    "make_shirt(size = \"M\")\n",
    "#Shirt of any size with a different message \n",
    "make_shirt(size = \"S\" , text = \"Java is pretty cool too!\")"
   ]
  },
  {
   "cell_type": "markdown",
   "metadata": {},
   "source": [
    "# Question Five \n",
    "## Write a function called describe_city() that accepts the name of a city and its country. The function should print a simple sentence. Give the parameter for the country a default value. Call your function for three different cities, at least one of which is not in the default country. "
   ]
  },
  {
   "cell_type": "code",
   "execution_count": 13,
   "metadata": {},
   "outputs": [
    {
     "name": "stdout",
     "output_type": "stream",
     "text": [
      "Galapagos Island is in Ecuador.\n",
      "Guayaquil is in Ecuador.\n",
      "Union City is in USA.\n"
     ]
    }
   ],
   "source": [
    "def describe_city(city, country = \"Ecuador\"): \n",
    "    \n",
    "    print(city.title() + \" is in \" + country + \".\")\n",
    "    \n",
    "describe_city(\"Galapagos Island\")\n",
    "describe_city(\"Guayaquil\")\n",
    "describe_city(city = \"Union City\", country = \"USA\")"
   ]
  },
  {
   "cell_type": "markdown",
   "metadata": {},
   "source": [
    "# Question Six\n",
    "\n",
    "## Write a function called city_country() that takes in the name of a city and its country. The function should return a string formatted like this \"Santiago, Chile\". Call your function with at least three city - country pairs. \n"
   ]
  },
  {
   "cell_type": "code",
   "execution_count": 1,
   "metadata": {},
   "outputs": [
    {
     "name": "stdout",
     "output_type": "stream",
     "text": [
      "Union City, USA\n",
      "Rome, Italy\n",
      "Quito, Ecuador\n"
     ]
    }
   ],
   "source": [
    "def city_country(city, country) :\n",
    "    \n",
    "    formatted_output = city + \", \" + country \n",
    "    \n",
    "    return formatted_output\n",
    "\n",
    "pair1 = city_country(\"Union City\", \"USA\")\n",
    "pair2 = city_country(\"Rome\", \"Italy\")\n",
    "pair3 = city_country(\"Quito\",\"Ecuador\")\n",
    "\n",
    "print(pair1)\n",
    "print(pair2)\n",
    "print(pair3)"
   ]
  },
  {
   "cell_type": "markdown",
   "metadata": {},
   "source": [
    "# Question Seven \n",
    "\n",
    "## Write a function called make_album() that builds a dictionary describing a music album. The function should take an artist name and an album title, and it should return a dictionary containing these two pieces of information. Use the function to make three dictionaries representing different albums. Print each return value to show that the dictionaries are storing the album information correctly. \n",
    "\n",
    "## Add an optional parameter to make_album that allows you to store the number of tracks on an album. If the calling line includes a value for the number of tracks, add that value to the albums dictionary. Make at least one new function call that includes the number of tracks on an album. \n"
   ]
  },
  {
   "cell_type": "code",
   "execution_count": 5,
   "metadata": {},
   "outputs": [
    {
     "name": "stdout",
     "output_type": "stream",
     "text": [
      "{'artist': 'Kelly Clarkson', 'album': 'EP1', 'number_of_tracks': 10}\n",
      "{'artist': 'Mariah Carey', 'album': 'EP2'}\n",
      "{'artist': 'Eminem', 'album': 'Slim Shady'}\n"
     ]
    }
   ],
   "source": [
    "def make_album(artist_name, album_title, tracks = \"\"): \n",
    "    \n",
    "    album_info = {'artist' : artist_name, 'album' : album_title}\n",
    "    \n",
    "    if tracks:\n",
    "        \n",
    "        album_info['number_of_tracks'] = tracks\n",
    "        \n",
    "    return album_info\n",
    "\n",
    "album1 = make_album(\"Kelly Clarkson\", \"EP1\", 10)\n",
    "album2 = make_album(\"Mariah Carey\", \"EP2\")\n",
    "album3 = make_album(\"Eminem\", \"Slim Shady\")\n",
    "\n",
    "print(album1)\n",
    "print(album2)\n",
    "print(album3)\n",
    "    "
   ]
  },
  {
   "cell_type": "markdown",
   "metadata": {},
   "source": [
    "# Question 8 \n",
    "\n",
    "## Start with your program from question 7. Write a while loop that allows users to enter an album's artist and title. Once you have that information, call make_album() with user's input anf print the dictionary that's created. Be sure to include a quit value in the while loop. "
   ]
  },
  {
   "cell_type": "code",
   "execution_count": 6,
   "metadata": {},
   "outputs": [
    {
     "name": "stdout",
     "output_type": "stream",
     "text": [
      "Enter information about the album\n",
      "(enter 'q' at any time to quit)\n"
     ]
    },
    {
     "name": "stdin",
     "output_type": "stream",
     "text": [
      "Artist name :  Eminem\n",
      "Album name:  Slim Shady \n",
      "Number of tracks in album:  Q\n"
     ]
    },
    {
     "name": "stdout",
     "output_type": "stream",
     "text": [
      "{'artist': 'Eminem', 'album': 'Slim Shady ', 'number_of_tracks': 'Q'}\n",
      "Enter information about the album\n",
      "(enter 'q' at any time to quit)\n"
     ]
    },
    {
     "name": "stdin",
     "output_type": "stream",
     "text": [
      "Artist name :  Mariah \n",
      "Album name:  EP2\n",
      "Number of tracks in album:  10\n"
     ]
    },
    {
     "name": "stdout",
     "output_type": "stream",
     "text": [
      "{'artist': 'Mariah ', 'album': 'EP2', 'number_of_tracks': '10'}\n",
      "Enter information about the album\n",
      "(enter 'q' at any time to quit)\n"
     ]
    },
    {
     "name": "stdin",
     "output_type": "stream",
     "text": [
      "Artist name :  Me\n",
      "Album name:  IDK\n",
      "Number of tracks in album:  q\n"
     ]
    }
   ],
   "source": [
    "def make_album(artist_name, album_title, tracks = \"\"): \n",
    "    \n",
    "    album_info = {'artist' : artist_name, 'album' : album_title}\n",
    "    \n",
    "    if tracks:\n",
    "        \n",
    "        album_info['number_of_tracks'] = tracks\n",
    "        \n",
    "    return album_info\n",
    "\n",
    "while True: \n",
    "    print(\"Enter information about the album\")\n",
    "    print(\"(enter 'q' at any time to quit)\")\n",
    "        \n",
    "    artist = input(\"Artist name : \")\n",
    "        \n",
    "    if artist == 'q':\n",
    "        break\n",
    "\n",
    "    album = input(\"Album name: \")\n",
    "        \n",
    "    if album == 'q':\n",
    "        break\n",
    "        \n",
    "    tracks = input(\"Number of tracks in album: \")\n",
    "    \n",
    "    if tracks == 'q':\n",
    "        break\n",
    "        \n",
    "    album = make_album(artist,album,tracks)\n",
    "    \n",
    "    print(album)\n",
    "    \n",
    "    "
   ]
  },
  {
   "cell_type": "markdown",
   "metadata": {},
   "source": [
    "# Question Nine \n",
    "## Make a list of magicians names. Pass the list to a function called show_magicians(), which prints the name of each magician in the list. "
   ]
  },
  {
   "cell_type": "code",
   "execution_count": 1,
   "metadata": {},
   "outputs": [
    {
     "name": "stdout",
     "output_type": "stream",
     "text": [
      "Annie\n",
      "Josh\n",
      "Tim\n",
      "Tom\n"
     ]
    }
   ],
   "source": [
    "def show_magicians(magicians):\n",
    "    for magician in magicians: \n",
    "        print(magician.title())\n",
    "\n",
    "magician_names = ['annie','josh','tim','tom']\n",
    "\n",
    "show_magicians(magician_names)"
   ]
  },
  {
   "cell_type": "markdown",
   "metadata": {},
   "source": [
    "# Question Ten \n",
    "\n",
    "## Start with a copy of your program from question 9. Write a function called make_great() that modifies the list of magicians by adding the phrace \"the Great\" to each magician's name. Call show_magicians to see that the list has actually been modified. \n"
   ]
  },
  {
   "cell_type": "code",
   "execution_count": 12,
   "metadata": {},
   "outputs": [
    {
     "name": "stdout",
     "output_type": "stream",
     "text": [
      "Harry Houdini\n",
      "David Blaine\n",
      "Teller\n",
      "\n",
      "\n",
      "Teller the Great\n",
      "David Blaine the Great\n",
      "Harry Houdini the Great\n"
     ]
    }
   ],
   "source": [
    "def show_magicians(magicians):\n",
    "    \"\"\"Print the name of each magician in the list.\"\"\"\n",
    "    for magician in magicians:\n",
    "        print(magician)\n",
    "\n",
    "def make_great(magicians):\n",
    "    \"\"\"Add 'the Great!' to each magician's name.\"\"\"\n",
    "    # Build a new list to hold the great musicians.\n",
    "    great_magicians = []\n",
    "\n",
    "    # Make each magician great, and add it to great_magicians.\n",
    "    while magicians:\n",
    "        magician = magicians.pop()\n",
    "        great_magician = magician + ' the Great'\n",
    "        great_magicians.append(great_magician)\n",
    "\n",
    "    # Add the great magicians back into magicians.\n",
    "    for great_magician in great_magicians:\n",
    "        magicians.append(great_magician)\n",
    "\n",
    "magicians = ['Harry Houdini', 'David Blaine', 'Teller']\n",
    "\n",
    "show_magicians(magicians)\n",
    "\n",
    "print(\"\\n\")\n",
    "make_great(magicians) #Making them great (Wont show on console)\n",
    "show_magicians(magicians) #Showing the edit \n"
   ]
  },
  {
   "cell_type": "markdown",
   "metadata": {},
   "source": [
    "# Question Eleven \n",
    "\n",
    "## Start with your work from Exercise 10. Call the function make_great() with a copy of the list of magician names, Because the original list will be unchanged, return the new list and store it in a separate list. Call show_magicians() with each list to show that you have one list of the original names and one list with the Great added to each magician name."
   ]
  },
  {
   "cell_type": "code",
   "execution_count": 13,
   "metadata": {},
   "outputs": [
    {
     "name": "stdout",
     "output_type": "stream",
     "text": [
      "Harry Houdini\n",
      "David Blaine\n",
      "Teller\n",
      "\n",
      "Great magicians:\n",
      "Teller the Great\n",
      "David Blaine the Great\n",
      "Harry Houdini the Great\n",
      "\n",
      "Original magicians:\n",
      "Harry Houdini\n",
      "David Blaine\n",
      "Teller\n"
     ]
    }
   ],
   "source": [
    "def show_magicians(magicians):\n",
    "    \"\"\"Print the name of each magician in the list.\"\"\"\n",
    "    for magician in magicians:\n",
    "        print(magician)\n",
    "\n",
    "def make_great(magicians):\n",
    "    \"\"\"Add 'the Great!' to each magician's name.\"\"\"\n",
    "    # Build a new list to hold the great musicians.\n",
    "    great_magicians = []\n",
    "\n",
    "    # Make each magician great, and add it to great_magicians.\n",
    "    while magicians:\n",
    "        magician = magicians.pop()\n",
    "        great_magician = magician + ' the Great'\n",
    "        great_magicians.append(great_magician)\n",
    "\n",
    "    # Add the great magicians back into magicians.\n",
    "    for great_magician in great_magicians:\n",
    "        magicians.append(great_magician)\n",
    "\n",
    "    return magicians\n",
    "\n",
    "magicians = ['Harry Houdini', 'David Blaine', 'Teller']\n",
    "show_magicians(magicians)\n",
    "\n",
    "print(\"\\nGreat magicians:\")\n",
    "great_magicians = make_great(magicians[:]) #Making them great first \n",
    "show_magicians(great_magicians)\n",
    "\n",
    "print(\"\\nOriginal magicians:\")\n",
    "show_magicians(magicians)\n",
    "\n"
   ]
  },
  {
   "cell_type": "markdown",
   "metadata": {},
   "source": [
    "# Question 12 \n",
    "\n",
    "## Write a function that accepts a list of items a person wants on a sandwich. The function should have one parameter that collects as many items as the function call provides, and it should provide a summary of the sandwich that is being ordered. Call the function three times, using a different number of arguments each time.\n"
   ]
  },
  {
   "cell_type": "code",
   "execution_count": 4,
   "metadata": {},
   "outputs": [
    {
     "name": "stdout",
     "output_type": "stream",
     "text": [
      "\n",
      "This sandwich has: \n",
      "lettuce\n",
      "tomatoes\n",
      "ham\n",
      "cheese\n",
      "\n",
      "This sandwich has: \n",
      "ham\n",
      "cheese\n",
      "turkey bacon\n",
      "\n",
      "This sandwich has: \n",
      "turkey\n"
     ]
    }
   ],
   "source": [
    "def make_sandwich(*ingredients): \n",
    "    \"\"\" Function that provides a summary of the sandwich that is being ordered\"\"\"\n",
    "    \n",
    "    print(\"\\nThis sandwich has: \")\n",
    "    \n",
    "    for ingredient in ingredients:\n",
    "        print(ingredient)\n",
    "\n",
    "\n",
    "make_sandwich(\"lettuce\",\"tomatoes\",\"ham\",\"cheese\")\n",
    "make_sandwich(\"ham\", \"cheese\", \"turkey bacon\")\n",
    "make_sandwich(\"turkey\")\n"
   ]
  },
  {
   "cell_type": "markdown",
   "metadata": {},
   "source": [
    "# Question 13 \n",
    "\n",
    "## Start with a copy of user_profile from page 153. Build a profile of yourself by calling build profile(), using your first and last name and three other key-value pairs that describe you. \n",
    "\n"
   ]
  },
  {
   "cell_type": "code",
   "execution_count": 8,
   "metadata": {},
   "outputs": [
    {
     "name": "stdout",
     "output_type": "stream",
     "text": [
      "{'first_name': 'albert', 'last_name': 'einstein', 'location': 'princeton', 'field': 'physics'}\n"
     ]
    }
   ],
   "source": [
    "def build_profile(first,last,**user_info):\n",
    "    \"\"\"Build a dictionary containing everything we know about a user.\"\"\"\n",
    "   \n",
    "    profile = {}\n",
    "    profile['first_name'] = first\n",
    "    profile['last_name']= last\n",
    "    \n",
    "    for key,value in user_info.items():\n",
    "        \n",
    "        profile[key] = value\n",
    "    \n",
    "    return profile\n",
    "\n",
    "user_profile = build_profile('albert', 'einstein', location = 'princeton', field = 'physics')\n",
    "print(user_profile)"
   ]
  },
  {
   "cell_type": "markdown",
   "metadata": {},
   "source": [
    "# Question 14 \n",
    "\n",
    "## Write a function that stores information about a car in a dictionary. The function should always receive a manufacturer and model name. It should then accept an arbitrary number of keyword arguments. Call the function with the required information and two other name-value pairs, such as a color or an optional feature."
   ]
  },
  {
   "cell_type": "code",
   "execution_count": 16,
   "metadata": {},
   "outputs": [
    {
     "name": "stdout",
     "output_type": "stream",
     "text": [
      "{'name': 'subaru', 'manufacturer': 'outback', 'color': 'blue', 'tow_Package': True}\n"
     ]
    }
   ],
   "source": [
    "def build_car(car_name, manufacturer, **car_info):\n",
    "    car = {}\n",
    "    car['name'] = car_name\n",
    "    car['manufacturer'] = manufacturer\n",
    "    \n",
    "    for key,value in car_info.items():\n",
    "    \n",
    "        car[key] = value\n",
    "    \n",
    "    return car\n",
    "\n",
    "\n",
    "car = build_car('subaru','outback',color = 'blue', tow_Package = True)\n",
    "print(car)"
   ]
  },
  {
   "cell_type": "code",
   "execution_count": null,
   "metadata": {},
   "outputs": [],
   "source": []
  }
 ],
 "metadata": {
  "kernelspec": {
   "display_name": "Python 3",
   "language": "python",
   "name": "python3"
  },
  "language_info": {
   "codemirror_mode": {
    "name": "ipython",
    "version": 3
   },
   "file_extension": ".py",
   "mimetype": "text/x-python",
   "name": "python",
   "nbconvert_exporter": "python",
   "pygments_lexer": "ipython3",
   "version": "3.7.6"
  }
 },
 "nbformat": 4,
 "nbformat_minor": 4
}
