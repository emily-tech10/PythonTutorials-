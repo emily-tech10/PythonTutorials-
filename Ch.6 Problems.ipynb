{
 "cells": [
  {
   "cell_type": "markdown",
   "metadata": {},
   "source": [
    "# Question 1 "
   ]
  },
  {
   "cell_type": "markdown",
   "metadata": {},
   "source": [
    "## Use a dictionary to store information about a person you know. Store their first name, last name, age, and city. Print each piece of information stored in your dictionary."
   ]
  },
  {
   "cell_type": "code",
   "execution_count": 7,
   "metadata": {},
   "outputs": [
    {
     "name": "stdout",
     "output_type": "stream",
     "text": [
      "First_Name:Emily\n",
      "Last_Name:Tumbaco\n",
      "Age:21\n",
      "City:Union City\n"
     ]
    }
   ],
   "source": [
    "# Construct dictionary\n",
    "\n",
    "emilys_information = {\n",
    "    \n",
    "    \"First_Name\" : \"Emily\",\n",
    "    \"Last_Name\" : \"Tumbaco\",\n",
    "    \"Age\": 21, \n",
    "    \"City\": \"Union City\"\n",
    "\n",
    "}\n",
    "\n",
    "# Printing each piece of information in dictionary\n",
    "\n",
    "for key,value in emilys_information.items():\n",
    "    print(key + \":\" + str(value))"
   ]
  },
  {
   "cell_type": "markdown",
   "metadata": {},
   "source": [
    "# Question 2 "
   ]
  },
  {
   "cell_type": "markdown",
   "metadata": {},
   "source": [
    "## Use a dictionary to store people's favorite numbers. Think of five names, and use them as keys in your dictionary. Think of a favorite number for each person, and store each as a value in your dictionary. Print each person's name and their favorite number. "
   ]
  },
  {
   "cell_type": "code",
   "execution_count": 9,
   "metadata": {},
   "outputs": [
    {
     "name": "stdout",
     "output_type": "stream",
     "text": [
      "Emily's favorite number is: 14\n",
      "Mike's favorite number is: 25\n",
      "Katelyn's favorite number is: 5\n",
      "Arina's favorite number is: 26\n",
      "Marina's favorite number is: 30\n"
     ]
    }
   ],
   "source": [
    "# Construct dictionary \n",
    "\n",
    "favorite_numbers = {\n",
    "    \"Emily\" : 14,\n",
    "    \"Mike\" : 25,\n",
    "    \"Katelyn\" : 5,\n",
    "    \"Arina\" : 26,\n",
    "    \"Marina\" : 30\n",
    "}\n",
    "\n",
    "# Print each person's name and their favorite number\n",
    "\n",
    "for key,value in favorite_numbers.items():\n",
    "    print(key + \"'s favorite number is: \" + str(value))\n",
    "    "
   ]
  },
  {
   "cell_type": "markdown",
   "metadata": {},
   "source": [
    "# Question 3 "
   ]
  },
  {
   "cell_type": "markdown",
   "metadata": {},
   "source": [
    "## A Python dictionary can be used to model an actual dictionary. However, to avoid confusion, let's call it a glossary. \n",
    "* Think of three programming languages you have learned about in the previous chapters. Use these words as the keys in your glossary and store their meaning as values.\n",
    "* Print each word and its meaning as neatly formatted output. You might print the word followed by a colon and then its meaning, or print the word on one line and then print its meaning indented on a second line. Use the new line character (\\n) to insert a blank line between each word-meaning pair in your output."
   ]
  },
  {
   "cell_type": "code",
   "execution_count": 16,
   "metadata": {},
   "outputs": [
    {
     "name": "stdout",
     "output_type": "stream",
     "text": [
      "\n",
      "C: A high-level and general-purpose programming language that is ideal for developing firmware or portable applications.\n",
      "\n",
      "Python: An nterpreted, object-oriented programming language similar to PERL, that has gained popularity because of its clear syntax and readability.\n",
      "\n",
      "Java: A high-level programming language developed by Sun Microsystems\n"
     ]
    }
   ],
   "source": [
    "# Constructing dictionary \n",
    "\n",
    "programming_glossary = {\n",
    "    \n",
    "    \"C\" : \" A high-level and general-purpose programming language that is ideal for developing firmware or portable applications.\",\n",
    "    \"Python\": \" An nterpreted, object-oriented programming language similar to PERL, that has gained popularity because of its clear syntax and readability.\",\n",
    "    \"Java\": \" A high-level programming language developed by Sun Microsystems\"\n",
    "    \n",
    "}\n",
    "\n",
    "#Printing key value pairs \n",
    "\n",
    "for key,value in programming_glossary.items():\n",
    "    print(\"\\n\"+ key + \":\" + value)"
   ]
  },
  {
   "cell_type": "markdown",
   "metadata": {},
   "source": [
    "# Question 5 "
   ]
  },
  {
   "cell_type": "markdown",
   "metadata": {},
   "source": [
    "# Make a dictionary containing three major rivers and the country each river runs through. \n",
    "* Use a loop to print a sentence about each river and where it runs through. \n",
    "* Use a loop to print the name of each river included in the dictionary. \n",
    "* Use a loop to print the name of each country included in the dictionary."
   ]
  },
  {
   "cell_type": "code",
   "execution_count": 5,
   "metadata": {},
   "outputs": [
    {
     "name": "stdout",
     "output_type": "stream",
     "text": [
      "\n",
      "The Nile river runs through Egypt.\n",
      "\n",
      "The Hudson river runs through USA.\n",
      "\n",
      "The Red river runs through USA.\n",
      "\n",
      "River name: Nile\n",
      "\n",
      "River name: Hudson\n",
      "\n",
      "River name: Red\n",
      "\n",
      "River location: Egypt\n",
      "\n",
      "River location: USA\n",
      "\n",
      "River location: USA\n"
     ]
    }
   ],
   "source": [
    "# Making dictionary of rivers and country it runs through.\n",
    "\n",
    "major_rivers = {\n",
    "    \n",
    "    \"Nile\" : \"Egypt\",\n",
    "    \"Hudson\" : \"USA\",\n",
    "    \"Red\": \"USA\"  \n",
    "}\n",
    "# Loop through each river and country - descriptive sentence\n",
    "for river, location in major_rivers.items(): {\n",
    "    print(\"\\nThe \" + river + \" river runs through \" + location + \".\")\n",
    "}\n",
    "# Loop to print each river in the dictionary \n",
    "for river in major_rivers.keys():{\n",
    "    print(\"\\nRiver name: \" + river)\n",
    "}\n",
    "# Loop to print each country in the dictionary \n",
    "for location in major_rivers.values(): {\n",
    "    print(\"\\nRiver location: \" + location)\n",
    "}"
   ]
  },
  {
   "cell_type": "markdown",
   "metadata": {},
   "source": [
    "# Question 6 "
   ]
  },
  {
   "cell_type": "markdown",
   "metadata": {},
   "source": [
    "## Favorite Languages \n",
    "* Make a list of people who should take the favorite languages poll. Include some names that are already in the dictionary and some that are not. \n",
    "* Loop through the list of people who should take the poll. If they have already taken the poll, print a message thanking them for responding. If they have not yet taken the poll, print a message inviting them to take the poll."
   ]
  },
  {
   "cell_type": "code",
   "execution_count": 9,
   "metadata": {},
   "outputs": [
    {
     "name": "stdout",
     "output_type": "stream",
     "text": [
      "Thank you Jen for taking the poll!\n",
      "Thank you Sarah for taking the poll!\n",
      "Hey David, we have noticed that you didn't take the poll. Please take the poll.\n",
      "Hey Emma, we have noticed that you didn't take the poll. Please take the poll.\n",
      "Hey Sean, we have noticed that you didn't take the poll. Please take the poll.\n"
     ]
    }
   ],
   "source": [
    "# Dictionary of poeple who took the poll: \n",
    "\n",
    "favorite_languages = {\n",
    "    'jen':'python',\n",
    "    'sarah': 'c',\n",
    "    'edward':'ruby',\n",
    "    'phil':'python'\n",
    "}\n",
    "\n",
    "# List of people who need to take the favorite languages poll\n",
    "\n",
    "missing_poll = ['jen','sarah','david', 'emma','sean']\n",
    "\n",
    "# Loop through list of people who should take the poll. With a thank you message included if they have responded, and a request if not. \n",
    "\n",
    "for name in missing_poll:\n",
    "    if name in favorite_languages:{\n",
    "        print(\"Thank you \" + name.title() + \" for taking the poll!\")\n",
    "    } \n",
    "    \n",
    "    else: {\n",
    "        print(\"Hey \" + name.title() + \", we have noticed that you didn't take the poll. Please take the poll.\")\n",
    "    }"
   ]
  },
  {
   "cell_type": "markdown",
   "metadata": {},
   "source": []
  }
 ],
 "metadata": {
  "kernelspec": {
   "display_name": "Python 3",
   "language": "python",
   "name": "python3"
  },
  "language_info": {
   "codemirror_mode": {
    "name": "ipython",
    "version": 3
   },
   "file_extension": ".py",
   "mimetype": "text/x-python",
   "name": "python",
   "nbconvert_exporter": "python",
   "pygments_lexer": "ipython3",
   "version": "3.7.6"
  }
 },
 "nbformat": 4,
 "nbformat_minor": 4
}
