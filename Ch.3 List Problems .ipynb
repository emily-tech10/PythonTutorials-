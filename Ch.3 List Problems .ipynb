{
 "cells": [
  {
   "cell_type": "markdown",
   "metadata": {},
   "source": [
    "# Question One\n",
    "## Store the names of a few of your friends in a list called names. Print each person's name by accessing each element in the list, one at a time. "
   ]
  },
  {
   "cell_type": "code",
   "execution_count": 1,
   "metadata": {},
   "outputs": [
    {
     "name": "stdout",
     "output_type": "stream",
     "text": [
      "['Katelyn', 'Arina']\n",
      "Katelyn\n",
      "Arina\n"
     ]
    }
   ],
   "source": [
    "names = [\"Katelyn\", \"Arina\", ]\n",
    "print(names) #prints all their names \n",
    "print(names[0]) # prints 1st element in the list \n",
    "print(names[1]) # prints 2nd element in the list"
   ]
  },
  {
   "cell_type": "markdown",
   "metadata": {},
   "source": [
    "# Question Two \n",
    "## Start with the list you used in problem 1, but instead of just printing each person's name, print a message to them. The text of each message should be the same, but each message should be personalized with the person's name. "
   ]
  },
  {
   "cell_type": "code",
   "execution_count": 5,
   "metadata": {},
   "outputs": [
    {
     "name": "stdout",
     "output_type": "stream",
     "text": [
      "Hello Katelyn , I hope you are well.\n",
      "Hello Arina , I hope you are well.\n"
     ]
    }
   ],
   "source": [
    "message_katelyn = \"Hello \" + names[0] + \" \" + \", I hope you are well.\"\n",
    "print(message_katelyn)\n",
    "\n",
    "message_arina = \"Hello \" + names[1] + \" \" + \", I hope you are well.\"\n",
    "print(message_arina)"
   ]
  },
  {
   "cell_type": "markdown",
   "metadata": {},
   "source": [
    "# Question Three \n",
    "## Think of your favorite mode of transportation, such as a motorcycle or a car, and make a list that stores several examples. Use your list to print a series of statements about these items, such as \"I would like to own a Honda motorcycle.\" "
   ]
  },
  {
   "cell_type": "code",
   "execution_count": 12,
   "metadata": {},
   "outputs": [
    {
     "name": "stdout",
     "output_type": "stream",
     "text": [
      "I would love to own a Honda, they're pretty cool.\n",
      "Volkswagen cars are nice. \n",
      "Ferrari are definitely luxury cars, dream cars to be exact.\n"
     ]
    }
   ],
   "source": [
    "cars = [\"Honda\",\"Volkswagen\",\"Ferrari\"]\n",
    "\n",
    "message_honda = \"I would love to own a \" + cars[0] + \",\" + \" they're pretty cool.\"\n",
    "message_volks = cars[1] + \" cars are nice. \"\n",
    "message_ferrari = cars[2] + \" are definitely luxury cars, dream cars to be exact.\"\n",
    "\n",
    "print(message_honda)\n",
    "print(message_volks)\n",
    "print(message_ferrari)"
   ]
  },
  {
   "cell_type": "markdown",
   "metadata": {},
   "source": [
    "# Question Four \n",
    "## Make a list that includes at three people you'd like to invite to dinner. Then use your list to print a message to each person, inviting them to dinner."
   ]
  },
  {
   "cell_type": "code",
   "execution_count": 16,
   "metadata": {},
   "outputs": [
    {
     "name": "stdout",
     "output_type": "stream",
     "text": [
      "Hey Mike, I'd like to invite you to dinner.\n",
      "Hey Katelyn, I'd like to invite you to dinner.\n",
      "Hey Arina, I'd like to invite you to dinner.\n"
     ]
    }
   ],
   "source": [
    "invitations = [\"Mike\",\"Katelyn\",\"Arina\"]\n",
    "print(\"Hey\" + \" \"  + invitations[0] + \", I'd like to invite you to dinner.\")\n",
    "print(\"Hey\" + \" \"  + invitations[1] + \", I'd like to invite you to dinner.\")\n",
    "print(\"Hey\" + \" \"  + invitations[2] + \", I'd like to invite you to dinner.\")"
   ]
  },
  {
   "cell_type": "markdown",
   "metadata": {},
   "source": [
    "# Question Five\n",
    "## Start your program from question 4. Add a print statement at the end of your program stating the name of the guest who can't make it. \n",
    "## Modify your list, replacing the name of the guest who can't make it with the name of the new person you are inviting. \n",
    "## Print a second set of invitation messages one for each person who is still in your list. "
   ]
  },
  {
   "cell_type": "code",
   "execution_count": 8,
   "metadata": {},
   "outputs": [
    {
     "name": "stdout",
     "output_type": "stream",
     "text": [
      "Hey Mike, I'd like to invite you to dinner.\n",
      "Hey Katelyn, I'd like to invite you to dinner.\n",
      "Hey Arina, I'd like to invite you to dinner.\n",
      "So it turns out that Arina can't make it.\n",
      "['Mike', 'Katelyn', 'Fran']\n",
      "Hey Mike, I'd like to invite you to dinner.\n",
      "Hey Katelyn, I'd like to invite you to dinner.\n",
      "Hey Fran, I'd like to invite you to dinner.\n"
     ]
    }
   ],
   "source": [
    "# Starting with program from question four \n",
    "invitations = [\"Mike\",\"Katelyn\",\"Arina\"]\n",
    "print(\"Hey\" + \" \"  + invitations[0] + \", I'd like to invite you to dinner.\")\n",
    "print(\"Hey\" + \" \"  + invitations[1] + \", I'd like to invite you to dinner.\")\n",
    "print(\"Hey\" + \" \"  + invitations[2] + \", I'd like to invite you to dinner.\")\n",
    "\n",
    "# Adding print statement the name of the person who can't make it. \n",
    "print(\"So it turns out that\" + \" \" + invitations[2] + \" can't make it.\")\n",
    "\n",
    "#Modifying list\n",
    "invitations[2] = \"Fran\"\n",
    "print(invitations)\n",
    "\n",
    "#Print second set of invitation messages\n",
    "print(\"Hey\" + \" \"  + invitations[0] + \", I'd like to invite you to dinner.\")\n",
    "print(\"Hey\" + \" \"  + invitations[1] + \", I'd like to invite you to dinner.\")\n",
    "print(\"Hey\" + \" \"  + invitations[2] + \", I'd like to invite you to dinner.\")"
   ]
  },
  {
   "cell_type": "markdown",
   "metadata": {},
   "source": [
    "# Question Six\n",
    "## Think of three more guests to invite to dinner. \n",
    "## Use insert() to add one new guest to the beginning of your list \n",
    "## Use insert() to add one new guest to the middle of your list \n",
    "## Use append() to add one new guest to the end of your list  "
   ]
  },
  {
   "cell_type": "code",
   "execution_count": 18,
   "metadata": {},
   "outputs": [
    {
     "name": "stdout",
     "output_type": "stream",
     "text": [
      "['Joe', 'Carol', 'Joe', 'Carol', 'Joe', 'Carol', 'Joe', 'Carol', 'Mike', 'Katelyn', 'Fran', 'Nate', 'Nate']\n",
      "['Joe', 'Carol', 'Joe', 'Carol', 'Joe', 'Carol', 'Joe', 'Carol', 'Joe', 'Carol', 'Mike', 'Katelyn', 'Fran', 'Nate', 'Nate', 'Nate']\n"
     ]
    }
   ],
   "source": [
    "print(invitations)\n",
    "\n",
    "invitations.insert(0,\"Joe\")\n",
    "invitations.insert(1,\"Carol\")\n",
    "invitations.append(\"Nate\")\n",
    "\n",
    "print(invitations)\n",
    "\n",
    "\n"
   ]
  },
  {
   "cell_type": "markdown",
   "metadata": {},
   "source": [
    "# Question 7 \n",
    "\n",
    "## A. Make a list of at least five places you'd likr to visit\n",
    "## B. Print your list in its original order. \n",
    "## C. Use sorted() to print your list in alphabetical order\n",
    "## D. Show that your list is still in original order by printing it again. \n",
    "## E. Use reverse() to change the order of your list . Print the list to show the order has changed.\n",
    "## F. Use reverse() to change the order of your list again. Print the list to show its back to its original order \n",
    "## G. Use sort() to change your list so its stored in alphabetical order Print the list to show its been changed \n",
    "## H. Use sort() to change your list so its stored in alphabetical order. Print the list to show the order has been changed. \n",
    "\n"
   ]
  },
  {
   "cell_type": "code",
   "execution_count": 2,
   "metadata": {},
   "outputs": [],
   "source": [
    "## Part a\n",
    "\n",
    "places = [\"Ecuador\", \"Italy\", \"Dominican Republic\", \"Cuba\", \"Ireland\"] #List of five places I'd like to visit"
   ]
  },
  {
   "cell_type": "code",
   "execution_count": 7,
   "metadata": {},
   "outputs": [
    {
     "name": "stdout",
     "output_type": "stream",
     "text": [
      "['Ecuador', 'Italy', 'Dominican Republic', 'Cuba', 'Ireland']\n"
     ]
    }
   ],
   "source": [
    "## Part b \n",
    "\n",
    "print(places) #Prints the list in its original order \n"
   ]
  },
  {
   "cell_type": "code",
   "execution_count": 6,
   "metadata": {},
   "outputs": [
    {
     "data": {
      "text/plain": [
       "['Cuba', 'Dominican Republic', 'Ecuador', 'Ireland', 'Italy']"
      ]
     },
     "execution_count": 6,
     "metadata": {},
     "output_type": "execute_result"
    }
   ],
   "source": [
    "## Part C \n",
    "sorted(places)"
   ]
  },
  {
   "cell_type": "code",
   "execution_count": 8,
   "metadata": {},
   "outputs": [
    {
     "name": "stdout",
     "output_type": "stream",
     "text": [
      "['Ecuador', 'Italy', 'Dominican Republic', 'Cuba', 'Ireland']\n"
     ]
    }
   ],
   "source": [
    "## Part D \n",
    "print(places)"
   ]
  },
  {
   "cell_type": "code",
   "execution_count": 11,
   "metadata": {},
   "outputs": [],
   "source": [
    "## Part E \n",
    "places.reverse()"
   ]
  },
  {
   "cell_type": "code",
   "execution_count": 12,
   "metadata": {},
   "outputs": [
    {
     "name": "stdout",
     "output_type": "stream",
     "text": [
      "['Italy', 'Ireland', 'Ecuador', 'Dominican Republic', 'Cuba']\n"
     ]
    }
   ],
   "source": [
    "## Part F \n",
    "print(places)"
   ]
  },
  {
   "cell_type": "code",
   "execution_count": 13,
   "metadata": {},
   "outputs": [
    {
     "name": "stdout",
     "output_type": "stream",
     "text": [
      "['Cuba', 'Dominican Republic', 'Ecuador', 'Ireland', 'Italy']\n"
     ]
    }
   ],
   "source": [
    "## Part G and H \n",
    "places.reverse() \n",
    "\n",
    "print(places) \n"
   ]
  },
  {
   "cell_type": "code",
   "execution_count": 14,
   "metadata": {},
   "outputs": [
    {
     "name": "stdout",
     "output_type": "stream",
     "text": [
      "['Cuba', 'Dominican Republic', 'Ecuador', 'Ireland', 'Italy']\n"
     ]
    }
   ],
   "source": [
    "## Part I \n",
    "places.sort()\n",
    "print(places)"
   ]
  },
  {
   "cell_type": "code",
   "execution_count": 16,
   "metadata": {},
   "outputs": [
    {
     "name": "stdout",
     "output_type": "stream",
     "text": [
      "['Italy', 'Ireland', 'Ecuador', 'Dominican Republic', 'Cuba']\n"
     ]
    }
   ],
   "source": [
    "## Part J \n",
    "places.sort(reverse=True)\n",
    "print(places)"
   ]
  },
  {
   "cell_type": "markdown",
   "metadata": {},
   "source": [
    "# Question 8 \n",
    "## Make another list, Use len() to print a a message indicating the number of people in the list"
   ]
  },
  {
   "cell_type": "code",
   "execution_count": 26,
   "metadata": {},
   "outputs": [
    {
     "name": "stdout",
     "output_type": "stream",
     "text": [
      "No of dog breeds in the list : 5\n"
     ]
    }
   ],
   "source": [
    "dogs = [\"Chihuahua\",\"Golden Retriever\", \"Beagle\",\"Rat Terrier\",\"Shih Tzu\"]\n",
    "\n",
    "print(\"No of dog breeds in the list :\",len(dogs))\n"
   ]
  },
  {
   "cell_type": "code",
   "execution_count": null,
   "metadata": {},
   "outputs": [],
   "source": []
  }
 ],
 "metadata": {
  "kernelspec": {
   "display_name": "Python 3",
   "language": "python",
   "name": "python3"
  },
  "language_info": {
   "codemirror_mode": {
    "name": "ipython",
    "version": 3
   },
   "file_extension": ".py",
   "mimetype": "text/x-python",
   "name": "python",
   "nbconvert_exporter": "python",
   "pygments_lexer": "ipython3",
   "version": "3.7.6"
  }
 },
 "nbformat": 4,
 "nbformat_minor": 4
}
