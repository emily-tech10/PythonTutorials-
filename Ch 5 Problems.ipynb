{
 "cells": [
  {
   "cell_type": "markdown",
   "metadata": {},
   "source": [
    "# Question 1\n",
    "## Imagine an alien was just shot down in a game. Create a variable called alien_color and assign it a color value. \n",
    "* Part A: Write an if statement to test whether the alien's color is green If it is, print a message that the player just earned 5 points. \n",
    "* Part B: Write one version of this program that passes the if test and another that fails. "
   ]
  },
  {
   "cell_type": "code",
   "execution_count": 1,
   "metadata": {},
   "outputs": [],
   "source": [
    "# Creating a variable and assigning it a color \n",
    "\n",
    "alien_color = 'yellow'"
   ]
  },
  {
   "cell_type": "code",
   "execution_count": 2,
   "metadata": {},
   "outputs": [],
   "source": [
    "# Part A \n",
    "\n",
    "if alien_color == 'green':\n",
    "    print(\"You have just earned 5 points!\")"
   ]
  },
  {
   "cell_type": "code",
   "execution_count": 3,
   "metadata": {},
   "outputs": [
    {
     "name": "stdout",
     "output_type": "stream",
     "text": [
      "You have just earned 5 points!\n"
     ]
    }
   ],
   "source": [
    "# Part B - Passes the test \n",
    "\n",
    "alien_color = 'green'\n",
    "\n",
    "if alien_color == 'green':\n",
    "    print(\"You have just earned 5 points!\")"
   ]
  },
  {
   "cell_type": "code",
   "execution_count": 5,
   "metadata": {},
   "outputs": [],
   "source": [
    "# Part B - Fails the test \n",
    "\n",
    "alien_color = 'yellow'\n",
    "\n",
    "if alien_color == 'green':\n",
    "    print(\"You have just earned 5 points!\")"
   ]
  },
  {
   "cell_type": "markdown",
   "metadata": {},
   "source": [
    "# Question 2 \n",
    "## Choose a color for yan alien as you did in the last exercise, and write an if-else chain.\n",
    "* If the alien's color is green, print a statement that the player just earned 5 points for shooting the alien. \n",
    "* If the alien's color is not green, print a statement that the player just earned 10 points.\n",
    "* Write one version of this program that runs the if block and another that runs the else block, \n"
   ]
  },
  {
   "cell_type": "code",
   "execution_count": 8,
   "metadata": {},
   "outputs": [
    {
     "name": "stdout",
     "output_type": "stream",
     "text": [
      "You've earned 5 points! \n"
     ]
    }
   ],
   "source": [
    "# Will run the if block \n",
    " \n",
    "alien_color = 'green' #sets color of alien \n",
    "\n",
    "\n",
    "if alien_color == 'green':\n",
    "   points = 5 \n",
    "else: \n",
    "    points = 10\n",
    "\n",
    "\n",
    "print(\"You've earned \" + str(points) + \" points! \")"
   ]
  },
  {
   "cell_type": "code",
   "execution_count": 9,
   "metadata": {},
   "outputs": [
    {
     "name": "stdout",
     "output_type": "stream",
     "text": [
      "You've earned 10 points! \n"
     ]
    }
   ],
   "source": [
    "# Will run the else block \n",
    "\n",
    "alien_color = 'yellow'\n",
    "\n",
    "if alien_color == 'green':\n",
    "   points = 5 \n",
    "else: \n",
    "    points = 10\n",
    "\n",
    "\n",
    "print(\"You've earned \" + str(points) + \" points! \")"
   ]
  },
  {
   "cell_type": "markdown",
   "metadata": {},
   "source": [
    "# Question 3\n",
    "## Turn your if-else chain from the previous exercise into an if-elif-else chain \n",
    "* If the alien is green,  print a message that the player earned 5 points \n",
    "* If the alien is yellow, print a message that the player earned 10 points \n",
    "* If the alien is red, print a message that the player earned 15 points \n",
    "* Write three versions of this program, making sure each message is printed for the appropriate color alien "
   ]
  },
  {
   "cell_type": "code",
   "execution_count": 10,
   "metadata": {},
   "outputs": [
    {
     "ename": "SyntaxError",
     "evalue": "invalid syntax (<ipython-input-10-e1798a55c430>, line 10)",
     "output_type": "error",
     "traceback": [
      "\u001b[0;36m  File \u001b[0;32m\"<ipython-input-10-e1798a55c430>\"\u001b[0;36m, line \u001b[0;32m10\u001b[0m\n\u001b[0;31m    print*\u001b[0m\n\u001b[0m          ^\u001b[0m\n\u001b[0;31mSyntaxError\u001b[0m\u001b[0;31m:\u001b[0m invalid syntax\n"
     ]
    }
   ],
   "source": [
    "# Making if-elif-else chain \n",
    "\n",
    "if alien_color == 'green':\n",
    "    points = 5\n",
    "elif alien_color == 'yellow':\n",
    "    points = 10 \n",
    "else: \n",
    "    points = 15 \n",
    "\n",
    "print(\"Congrat's you've earned \" + str(points) + \" points!\")"
   ]
  },
  {
   "cell_type": "code",
   "execution_count": 11,
   "metadata": {},
   "outputs": [
    {
     "name": "stdout",
     "output_type": "stream",
     "text": [
      "Congrat's you've earned 5 points!\n"
     ]
    }
   ],
   "source": [
    "# Setting alien color to green \n",
    "\n",
    "alien_color = 'green'\n",
    "\n",
    "if alien_color == 'green':\n",
    "    points = 5\n",
    "elif alien_color == 'yellow':\n",
    "    points = 10 \n",
    "else: \n",
    "    points = 15 \n",
    "\n",
    "print(\"Congrat's you've earned \" + str(points) + \" points!\")"
   ]
  },
  {
   "cell_type": "code",
   "execution_count": 12,
   "metadata": {},
   "outputs": [
    {
     "name": "stdout",
     "output_type": "stream",
     "text": [
      "Congrat's you've earned 10 points!\n"
     ]
    }
   ],
   "source": [
    "# Setting alien color to yellow\n",
    "\n",
    "alien_color = 'yellow'\n",
    "\n",
    "if alien_color == 'green':\n",
    "    points = 5\n",
    "elif alien_color == 'yellow':\n",
    "    points = 10 \n",
    "else: \n",
    "    points = 15 \n",
    "\n",
    "print(\"Congrat's you've earned \" + str(points) + \" points!\")"
   ]
  },
  {
   "cell_type": "code",
   "execution_count": 13,
   "metadata": {},
   "outputs": [
    {
     "name": "stdout",
     "output_type": "stream",
     "text": [
      "Congrat's you've earned 15 points!\n"
     ]
    }
   ],
   "source": [
    "# Setting alien color to red \n",
    "\n",
    "alien_color = 'red'\n",
    "\n",
    "if alien_color == 'green':\n",
    "    points = 5\n",
    "elif alien_color == 'yellow':\n",
    "    points = 10 \n",
    "else: \n",
    "    points = 15 \n",
    "\n",
    "print(\"Congrat's you've earned \" + str(points) + \" points!\")"
   ]
  },
  {
   "cell_type": "markdown",
   "metadata": {},
   "source": [
    "# Question 4 \n",
    "## Write an if-elif-else chain that determines a person's stage of life. Set a value for the variable age, and then: \n",
    "* If the person is less than 2 years old, print a message that the person is a baby. \n",
    "* If the person is at least two years old, but less than 4, print a message that the person is a toddler \n",
    "* If the person is at least 4 years old but less than 13, print a message that the person is a kid\n",
    "* If the person is at least 13 years old but less than 20, print a message that the person is a teenager\n",
    "* If the person is at least 20 years old but less than 65, print a message that the person is an adult\n",
    "* If the person is age 65 or older, print a message that the person is an elder \n"
   ]
  },
  {
   "cell_type": "code",
   "execution_count": 18,
   "metadata": {},
   "outputs": [
    {
     "name": "stdout",
     "output_type": "stream",
     "text": [
      "You are a elder.\n"
     ]
    }
   ],
   "source": [
    "age = 80\n",
    "\n",
    "if age < 2: \n",
    "    stage = 'baby'\n",
    "elif age >= 2 and age < 4: \n",
    "    stage = 'toddler'\n",
    "elif age >= 4 and age < 13: \n",
    "    stage = 'kid'\n",
    "elif age >= 13 and age < 20:\n",
    "    stage = 'teenager'\n",
    "elif age >= 20 and age < 64:\n",
    "    stage = 'adult'\n",
    "else: \n",
    "    stage = 'elder'\n",
    "\n",
    "print(\"You are an \" + stage + \".\")"
   ]
  },
  {
   "cell_type": "markdown",
   "metadata": {},
   "source": [
    "# Question 5 \n",
    "## Make a list of your favorite fruits, and then write a series of independent if statements that check for certain fruits in your list. \n",
    "* Make a list of your three favorite fruits and call it favorite_fruits\n",
    "* Write five if statements. Each should check whether a certain kind of fruit is in your list. If the fruit is in your list, the if block should print a statement such as *You really like bananas!"
   ]
  },
  {
   "cell_type": "code",
   "execution_count": 20,
   "metadata": {},
   "outputs": [
    {
     "name": "stdout",
     "output_type": "stream",
     "text": [
      "Wow, you really like bananas!\n",
      "Wow, you really like strawberries!\n",
      "Wow, you really like mangoes!\n"
     ]
    }
   ],
   "source": [
    "# Making favorite_fruits variable \n",
    "\n",
    "favorite_fruits = ['banana','strawberry','mango']\n",
    "\n",
    "if 'banana' in favorite_fruits: \n",
    "    print(\"Wow, you really like bananas!\")\n",
    "\n",
    "if 'strawberry' in favorite_fruits:\n",
    "    print(\"Wow, you really like strawberries!\")\n",
    "\n",
    "if 'mango' in favorite_fruits:\n",
    "    print(\"Wow, you really like mangoes!\")\n",
    "    \n",
    "if 'grapes' in favorite_fruits:\n",
    "    print(\"Wow, you really like grapes!\")\n",
    "    \n",
    "if 'blueberries' in favorite_fruits:\n",
    "    print(\"Wow, you really like blueberries!\")\n",
    "              "
   ]
  },
  {
   "cell_type": "markdown",
   "metadata": {},
   "source": [
    "# Question 6\n",
    "## Make a list of five or more usernames, including the name 'admin'. Imagine you are writing code that will print a greeting to each user after they log in to a website. Loop through the list, and print a greeting to each user :\n",
    "* If the username is 'admin', print a special greeting, such as *Hello admin, would you like to see a status report?\n",
    "* Otherwise, print a generic greeting such as *Hello Eric, thank you for logging in again."
   ]
  },
  {
   "cell_type": "code",
   "execution_count": 10,
   "metadata": {},
   "outputs": [
    {
     "name": "stdout",
     "output_type": "stream",
     "text": [
      "Hello Emily, thank you for logging in again.\n",
      "Hello Eric, thank you for logging in again.\n",
      "Hello Jane, thank you for logging in again.\n",
      "Hello Marie, thank you for logging in again.\n",
      "Hello Admin, would you like to see a status report?\n"
     ]
    }
   ],
   "source": [
    "usernames = ['emily','eric','jane','marie','admin']\n",
    "\n",
    "## Prints all usernames and has a special message for admin\n",
    "\n",
    "for username in usernames: \n",
    "    if username == 'admin': \n",
    "        print(\"Hello \" + username.title() +  \", would you like to see a status report?\")\n",
    "    else:\n",
    "        print(\"Hello \" + username.title() + \", thank you for logging in again.\")"
   ]
  },
  {
   "cell_type": "markdown",
   "metadata": {},
   "source": [
    "# Add an *if* test to question 6 to make sure the list of users is not empty. \n",
    "* If the list is empty, print the message *We need to find some users\n",
    "* Remove all of the user names from your list, and make sure the correct message is printed\n"
   ]
  },
  {
   "cell_type": "code",
   "execution_count": 11,
   "metadata": {},
   "outputs": [
    {
     "name": "stdout",
     "output_type": "stream",
     "text": [
      "We need to find some usernames! \n"
     ]
    }
   ],
   "source": [
    "usernames = []\n",
    "\n",
    "if usernames: \n",
    "    for username in usernames:\n",
    "        print(\"Hello \" + username.title() + \", thank you for logging in again.\")\n",
    "else: \n",
    "    print(\"We need to find some usernames! \")\n",
    "    \n",
    "        "
   ]
  },
  {
   "cell_type": "markdown",
   "metadata": {},
   "source": [
    "# Question 7 \n",
    "## Do the following to create a program that simulates how websites ensure that everyone has a unique username \n",
    "\n",
    "* Make a list of 5 or more usernames called current_users\n",
    "* Make another list of five usernames called new_users. Make sure one or two of the new usernames are also in the current_users list. \n",
    "* Loop through the new_users list to see if each new username has already been used. If it has, print a message that the person will need to enter a new username. If a username has not been used , print a message saying that the username is available .\n",
    "* Make sure your comparison is case sensitive, If 'John' has been used, 'JOHN' should not be accepted. \n",
    "\n"
   ]
  },
  {
   "cell_type": "code",
   "execution_count": 22,
   "metadata": {},
   "outputs": [
    {
     "name": "stdout",
     "output_type": "stream",
     "text": [
      "Great, sarah is still available.\n",
      "Sorry Willie, that name is taken.\n",
      "Great, PHIL is still available.\n",
      "Sorry ever, that name is taken.\n",
      "Great, Iona is still available.\n"
     ]
    }
   ],
   "source": [
    "current_users = ['eric', 'willie', 'admin', 'erin', 'Ever']\n",
    "new_users = ['sarah', 'Willie', 'PHIL', 'ever', 'Iona']\n",
    "\n",
    "current_users_lower = [user.lower() for user in current_users] #list comprehension for case sensitivity \n",
    "\n",
    "for new_user in new_users:\n",
    "    if new_user.lower() in current_users_lower:\n",
    "        print(\"Sorry \" + new_user + \", that name is taken.\")\n",
    "    else:\n",
    "        print(\"Great, \" + new_user + \" is still available.\")"
   ]
  },
  {
   "cell_type": "markdown",
   "metadata": {},
   "source": [
    "# Question 8 \n",
    "## Ordinal numbers indicate their position in a list, such as 1st or 2nd.\n",
    "\n",
    "* Store the numbers 1 through 9 in a list\n",
    "* Loop through the list \n",
    "* Use an if-elif-else chain inside the loop to print the proper ordinal ending for each number. Your output should read \" 1st 2nd 3rd 4th 5th 6th 7th 8th 9th , and each result should be in a second line. \n",
    "\n"
   ]
  },
  {
   "cell_type": "code",
   "execution_count": 20,
   "metadata": {},
   "outputs": [
    {
     "name": "stdout",
     "output_type": "stream",
     "text": [
      "1st\n",
      "2nd\n",
      "3rd\n",
      "4th\n",
      "5th\n",
      "6th\n",
      "7th\n",
      "8th\n",
      "9th\n"
     ]
    }
   ],
   "source": [
    "numbers = list(range(1,10))\n",
    "\n",
    "for number in numbers:\n",
    "    if number == 1:\n",
    "        print(\"1st\")\n",
    "    elif number == 2:\n",
    "        print(\"2nd\")\n",
    "    elif number == 3:\n",
    "        print(\"3rd\")\n",
    "    else:\n",
    "        print(str(number) + \"th\")\n",
    "    "
   ]
  },
  {
   "cell_type": "code",
   "execution_count": null,
   "metadata": {},
   "outputs": [],
   "source": []
  },
  {
   "cell_type": "code",
   "execution_count": null,
   "metadata": {},
   "outputs": [],
   "source": []
  }
 ],
 "metadata": {
  "kernelspec": {
   "display_name": "Python 3",
   "language": "python",
   "name": "python3"
  },
  "language_info": {
   "codemirror_mode": {
    "name": "ipython",
    "version": 3
   },
   "file_extension": ".py",
   "mimetype": "text/x-python",
   "name": "python",
   "nbconvert_exporter": "python",
   "pygments_lexer": "ipython3",
   "version": "3.7.6"
  }
 },
 "nbformat": 4,
 "nbformat_minor": 4
}
