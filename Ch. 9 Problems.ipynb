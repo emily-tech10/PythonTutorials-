{
 "cells": [
  {
   "cell_type": "markdown",
   "metadata": {},
   "source": [
    "# Question One "
   ]
  },
  {
   "cell_type": "code",
   "execution_count": 7,
   "metadata": {},
   "outputs": [
    {
     "name": "stdout",
     "output_type": "stream",
     "text": [
      "La Roca\n",
      "Hispanic\n",
      "Hello! Welcome to La Roca, home of: Hispanic food!\n",
      "Hello, La Roca is open!\n"
     ]
    }
   ],
   "source": [
    "class Restaurant() : \n",
    "    \n",
    "    \"\"\"An attempt to model a restaurant\"\"\"\n",
    "    \n",
    "    def __init__(self,restaurant_name,cuisine_type):\n",
    "        \"\"\"Initialize the attributes\"\"\"\n",
    "        self.restaurant_name = restaurant_name \n",
    "        self.cuisine_type = cuisine_type\n",
    "        \n",
    "    def describe_restaurant(self): \n",
    "        \"\"\"Method that will describe the restaurant by printing statemtn of name and cuisine type.\"\"\"\n",
    "        print(\"Hello! Welcome to \" + self.restaurant_name + \", home of: \" + self.cuisine_type + \" food!\" )\n",
    "   \n",
    "    def open_restaurant(self):\n",
    "        \"\"\"Method that will indicate restaurant is open.\"\"\"\n",
    "        print(\"Hello, \" + self.restaurant_name + \" is open!\")\n",
    "        \n",
    "new_restaurant = Restaurant(\"La Roca\", \"Hispanic\") #creates an instance of a class \n",
    "print(new_restaurant.restaurant_name) #prints restaurant name \n",
    "print(new_restaurant.cuisine_type) #prints cuisine type\n",
    "new_restaurant.describe_restaurant() #calls method from class\n",
    "new_restaurant.open_restaurant() #calls method from class \n",
    "    "
   ]
  },
  {
   "cell_type": "markdown",
   "metadata": {},
   "source": [
    "# Question Two "
   ]
  },
  {
   "cell_type": "code",
   "execution_count": 7,
   "metadata": {},
   "outputs": [
    {
     "name": "stdout",
     "output_type": "stream",
     "text": [
      "Hello! Welcome to Las Palmas, home of: Cuban food!\n",
      "Hello! Welcome to Mi Bandera Restaurant, home of: Latin food!\n",
      "Hello! Welcome to Noches de Colombia, home of: Colombian food!\n"
     ]
    }
   ],
   "source": [
    "restaurant_1 = Restaurant(\"Las Palmas\",\"Cuban\")\n",
    "restaurant_2 = Restaurant(\"Mi Bandera Restaurant\", \"Latin\")\n",
    "restaurant_3 = Restaurant(\"Noches de Colombia\", \"Colombian\")\n",
    "\n",
    "restaurant_1.describe_restaurant()\n",
    "restaurant_2.describe_restaurant()\n",
    "restaurant_3.describe_restaurant()"
   ]
  },
  {
   "cell_type": "markdown",
   "metadata": {},
   "source": [
    "# Question Three "
   ]
  },
  {
   "cell_type": "code",
   "execution_count": 8,
   "metadata": {},
   "outputs": [
    {
     "name": "stdout",
     "output_type": "stream",
     "text": [
      "First name: Emily Last name: Tumbaco Age: 21 Favorite Color: Purple\n",
      "Welcome, Emily!\n",
      "First name: Marina Last name: Rosado Age: 62 Favorite Color: Black\n",
      "Welcome, Marina!\n",
      "First name: Fernando Last name: Tumbaco Age: 59 Favorite Color: Yellow\n",
      "Welcome, Fernando!\n"
     ]
    }
   ],
   "source": [
    "class User(): \n",
    "    def __init__(self,first_name,last_name,age,favorite_color):\n",
    "        self.first_name = first_name\n",
    "        self.last_name = last_name \n",
    "        self.age = age \n",
    "        self.favorite_color = favorite_color\n",
    "   \n",
    "    def describe_user(self):\n",
    "        \n",
    "        print(\"First name: \" + self.first_name + \" Last name: \" + self.last_name + \" Age: \" + str(self.age) + \" Favorite Color: \" + self.favorite_color)\n",
    "        \n",
    "    def greet_user(self):\n",
    "        print(\"Welcome, \" + self.first_name + \"!\")\n",
    "        \n",
    "user_1 = User(\"Emily\",\"Tumbaco\",21,\"Purple\")\n",
    "user_2 = User(\"Marina\", \"Rosado\", 62, \"Black\")\n",
    "user_3 = User(\"Fernando\", \"Tumbaco\", 59, \"Yellow\")\n",
    "\n",
    "user_1.describe_user()\n",
    "user_1.greet_user()\n",
    "\n",
    "user_2.describe_user()\n",
    "user_2.greet_user()\n",
    "\n",
    "user_3.describe_user()\n",
    "user_3.greet_user()\n",
    "        "
   ]
  },
  {
   "cell_type": "markdown",
   "metadata": {},
   "source": [
    "# Question Four"
   ]
  },
  {
   "cell_type": "code",
   "execution_count": 5,
   "metadata": {},
   "outputs": [
    {
     "name": "stdout",
     "output_type": "stream",
     "text": [
      "9\n",
      "24\n"
     ]
    }
   ],
   "source": [
    "class Restaurant() : \n",
    "    \n",
    "    \"\"\"An attempt to model a restaurant\"\"\"\n",
    "    \n",
    "    def __init__(self,restaurant_name,cuisine_type):\n",
    "        \"\"\"Initialize the attributes\"\"\"\n",
    "        self.restaurant_name = restaurant_name \n",
    "        self.cuisine_type = cuisine_type\n",
    "        self.number_served = 0 #initialized this attribute to 0 \n",
    "        \n",
    "    def describe_restaurant(self): \n",
    "        \"\"\"Method that will describe the restaurant by printing statemtn of name and cuisine type.\"\"\"\n",
    "        print(\"Hello! Welcome to \" + self.restaurant_name + \", home of: \" + self.cuisine_type + \" food!\" )\n",
    "   \n",
    "    def open_restaurant(self):\n",
    "        \"\"\"Method that will indicate restaurant is open.\"\"\"\n",
    "        print(\"Hello, \" + self.restaurant_name + \" is open!\")\n",
    "    \n",
    "    def set_number_served(self,actual_served):\n",
    "        \"\"\"Sets number served to whatever parameter is indicated \"\"\"\n",
    "        self.number_served = actual_served \n",
    "        \n",
    "    def increment_number_served(self,increment):\n",
    "       \n",
    "        \"\"\"Increments number served by the increment parameter\"\"\" \n",
    "        self.number_served += increment\n",
    "        \n",
    "restaurant = Restaurant(\"Red Lobster\", \"American\") #instance of the class \n",
    "#print(restaurant.number_served) #prints default number \n",
    "\n",
    "#restaurant.number_served = 3 #changes value of this attribute \n",
    "#print(restaurant.number_served ) #should now be 3 \n",
    "\n",
    "restaurant.set_number_served(9) #sets the value of this attribute to 9 \n",
    "print(restaurant.number_served) #should be 9 \n",
    "\n",
    "restaurant.increment_number_served(15)\n",
    "print(restaurant.number_served)"
   ]
  },
  {
   "cell_type": "markdown",
   "metadata": {},
   "source": [
    "# Question Five"
   ]
  },
  {
   "cell_type": "code",
   "execution_count": 7,
   "metadata": {},
   "outputs": [
    {
     "name": "stdout",
     "output_type": "stream",
     "text": [
      "6\n",
      "0\n"
     ]
    }
   ],
   "source": [
    "class User(): \n",
    "    def __init__(self,first_name,last_name,age,favorite_color,login_attempts):\n",
    "        self.first_name = first_name\n",
    "        self.last_name = last_name \n",
    "        self.age = age \n",
    "        self.favorite_color = favorite_color\n",
    "        self.login_attempts = login_attempts\n",
    "   \n",
    "    def describe_user(self):\n",
    "        \"\"\"Method that prints each of the users attributes.\"\"\"\n",
    "        print(\"First name: \" + self.first_name + \" Last name: \" + self.last_name + \" Age: \" + str(self.age) + \" Favorite Color: \" + self.favorite_color)\n",
    "        \n",
    "    def greet_user(self):\n",
    "        \"\"\"Method that prints a greeting message to the user.\"\"\"\n",
    "        print(\"Welcome, \" + self.first_name + \"!\")\n",
    "        \n",
    "    def increment_login_attempts(self):\n",
    "        \"\"\"Method that increments the number of login attempts by one\"\"\"\n",
    "        self.login_attempts += 1 \n",
    "    \n",
    "    def reset_login_attempts(self):\n",
    "        \"\"\"Method that resets the number of login attempts \"\"\"\n",
    "        self.login_attempts = 0\n",
    "    \n",
    "user1 = User(\"Emily\",\"Tumbaco\",21,\"purple\",0) #instance of the user class with 0 login attempts \n",
    "\n",
    "#incrementing the login attempts \n",
    "user1.increment_login_attempts()\n",
    "user1.increment_login_attempts()\n",
    "user1.increment_login_attempts()\n",
    "user1.increment_login_attempts()\n",
    "user1.increment_login_attempts()\n",
    "user1.increment_login_attempts()\n",
    "\n",
    "#printing out login attempts to confirm \n",
    "print(user1.login_attempts)\n",
    "\n",
    "#resetting login attempts and print out to confirm \n",
    "user1.reset_login_attempts()\n",
    "print(user1.login_attempts)"
   ]
  },
  {
   "cell_type": "markdown",
   "metadata": {},
   "source": [
    "# Question Six "
   ]
  },
  {
   "cell_type": "code",
   "execution_count": 4,
   "metadata": {},
   "outputs": [
    {
     "name": "stdout",
     "output_type": "stream",
     "text": [
      "These are the icecream flavors that are available: \n",
      "Vanilla\n",
      "Chocolate\n",
      "Strawberry\n"
     ]
    }
   ],
   "source": [
    "class Restaurant() : \n",
    "    \n",
    "    \"\"\"An attempt to model a restaurant\"\"\"\n",
    "    \n",
    "    def __init__(self,restaurant_name,cuisine_type):\n",
    "        \"\"\"Initialize the attributes\"\"\"\n",
    "        self.restaurant_name = restaurant_name \n",
    "        self.cuisine_type = cuisine_type\n",
    "        self.number_served = 0 #initialized this attribute to 0 \n",
    "        \n",
    "    def describe_restaurant(self): \n",
    "        \"\"\"Method that will describe the restaurant by printing statemtn of name and cuisine type.\"\"\"\n",
    "        print(\"Hello! Welcome to \" + self.restaurant_name + \", home of: \" + self.cuisine_type + \" food!\" )\n",
    "   \n",
    "    def open_restaurant(self):\n",
    "        \"\"\"Method that will indicate restaurant is open.\"\"\"\n",
    "        print(\"Hello, \" + self.restaurant_name + \" is open!\")\n",
    "    \n",
    "    def set_number_served(self,actual_served):\n",
    "        \"\"\"Sets number served to whatever parameter is indicated \"\"\"\n",
    "        self.number_served = actual_served \n",
    "        \n",
    "    def increment_number_served(self,increment):\n",
    "       \n",
    "        \"\"\"Increments number served by the increment parameter\"\"\" \n",
    "        self.number_served += increment\n",
    "        \n",
    "class IceCreamStand(Restaurant):\n",
    "    \n",
    "    def __init__(self,restaurant_name,cuisine_type,*ice_cream_flavors):\n",
    "        super().__init__(restaurant_name,cuisine_type)\n",
    "        self.ice_cream_flavors = ice_cream_flavors\n",
    "        \n",
    "    def display_icecream_flavors(self):\n",
    "       \n",
    "        \"\"\"Method that will display icecream flavors \"\"\"\n",
    "        \n",
    "        print(\"These are the icecream flavors that are available: \")\n",
    "        \n",
    "        for ice_cream in self.ice_cream_flavors:\n",
    "            print(ice_cream)\n",
    "            \n",
    "gelatos_icecream = IceCreamStand(\"Gelatos Ice Cream\", \"Ice Cream\", \"Vanilla\",\"Chocolate\",\"Strawberry\")\n",
    "gelatos_icecream.display_icecream_flavors()\n",
    "    "
   ]
  },
  {
   "cell_type": "markdown",
   "metadata": {},
   "source": [
    "# Question Seven "
   ]
  },
  {
   "cell_type": "code",
   "execution_count": 16,
   "metadata": {},
   "outputs": [
    {
     "ename": "AttributeError",
     "evalue": "'Admin' object has no attribute 'show_privileges'",
     "output_type": "error",
     "traceback": [
      "\u001b[0;31m---------------------------------------------------------------------------\u001b[0m",
      "\u001b[0;31mAttributeError\u001b[0m                            Traceback (most recent call last)",
      "\u001b[0;32m<ipython-input-16-e6f9f36322fa>\u001b[0m in \u001b[0;36m<module>\u001b[0;34m\u001b[0m\n\u001b[1;32m     33\u001b[0m \u001b[0;34m\u001b[0m\u001b[0m\n\u001b[1;32m     34\u001b[0m \u001b[0memily_admin\u001b[0m \u001b[0;34m=\u001b[0m \u001b[0mAdmin\u001b[0m\u001b[0;34m(\u001b[0m\u001b[0;34m\"Emily\"\u001b[0m\u001b[0;34m,\u001b[0m\u001b[0;34m\"Tumbaco\"\u001b[0m\u001b[0;34m,\u001b[0m\u001b[0;36m21\u001b[0m\u001b[0;34m,\u001b[0m\u001b[0;34m\"purple\"\u001b[0m\u001b[0;34m,\u001b[0m\u001b[0;36m0\u001b[0m\u001b[0;34m,\u001b[0m\u001b[0;34m\"can add post\"\u001b[0m\u001b[0;34m,\u001b[0m\u001b[0;34m\"can ban user\"\u001b[0m\u001b[0;34m,\u001b[0m \u001b[0;34m\"can remove a user temporarily\"\u001b[0m\u001b[0;34m)\u001b[0m\u001b[0;34m\u001b[0m\u001b[0;34m\u001b[0m\u001b[0m\n\u001b[0;32m---> 35\u001b[0;31m \u001b[0memily_admin\u001b[0m\u001b[0;34m.\u001b[0m\u001b[0mshow_privileges\u001b[0m\u001b[0;34m(\u001b[0m\u001b[0;34m)\u001b[0m\u001b[0;34m\u001b[0m\u001b[0;34m\u001b[0m\u001b[0m\n\u001b[0m\u001b[1;32m     36\u001b[0m \u001b[0;34m\u001b[0m\u001b[0m\n",
      "\u001b[0;31mAttributeError\u001b[0m: 'Admin' object has no attribute 'show_privileges'"
     ]
    }
   ],
   "source": [
    "class User(): \n",
    "    def __init__(self,first_name,last_name,age,favorite_color,login_attempts):\n",
    "        self.first_name = first_name\n",
    "        self.last_name = last_name \n",
    "        self.age = age \n",
    "        self.favorite_color = favorite_color\n",
    "        self.login_attempts = login_attempts\n",
    "   \n",
    "    def describe_user(self):\n",
    "        \"\"\"Method that prints each of the users attributes.\"\"\"\n",
    "        print(\"First name: \" + self.first_name + \" Last name: \" + self.last_name + \" Age: \" + str(self.age) + \" Favorite Color: \" + self.favorite_color)\n",
    "        \n",
    "    def greet_user(self):\n",
    "        \"\"\"Method that prints a greeting message to the user.\"\"\"\n",
    "        print(\"Welcome, \" + self.first_name + \"!\")\n",
    "        \n",
    "    def increment_login_attempts(self):\n",
    "        \"\"\"Method that increments the number of login attempts by one\"\"\"\n",
    "        self.login_attempts += 1 \n",
    "    \n",
    "    def reset_login_attempts(self):\n",
    "        \"\"\"Method that resets the number of login attempts \"\"\"\n",
    "        self.login_attempts = 0\n",
    "        \n",
    "class Admin(User):\n",
    "    \n",
    "    \"\"\" Child class of User called Admin \"\"\"\n",
    "    \n",
    "    def __init__(self, first_name, last_name, age, favorite_color,login_attempts,*privileges):\n",
    "        super().__init__(first_name,last_name,age,favorite_color,login_attempts)\n",
    "        self.privileges = privileges\n",
    "    \n",
    "            \n",
    "emily_admin = Admin(\"Emily\",\"Tumbaco\",21,\"purple\",0,\"can add post\",\"can ban user\", \"can remove a user temporarily\")\n",
    "emily_admin.show_privileges()\n",
    "    "
   ]
  },
  {
   "cell_type": "markdown",
   "metadata": {},
   "source": [
    "# Question Eight"
   ]
  },
  {
   "cell_type": "code",
   "execution_count": 4,
   "metadata": {},
   "outputs": [
    {
     "name": "stdout",
     "output_type": "stream",
     "text": [
      "Here are the admins privileges: \n",
      "can add a person\n",
      "can remove a person\n"
     ]
    }
   ],
   "source": [
    "class User(): \n",
    "    def __init__(self,first_name,last_name,age,favorite_color,login_attempts):\n",
    "        self.first_name = first_name\n",
    "        self.last_name = last_name \n",
    "        self.age = age \n",
    "        self.favorite_color = favorite_color\n",
    "        self.login_attempts = login_attempts\n",
    "   \n",
    "    def describe_user(self):\n",
    "        \"\"\"Method that prints each of the users attributes.\"\"\"\n",
    "        print(\"First name: \" + self.first_name + \" Last name: \" + self.last_name + \" Age: \" + str(self.age) + \" Favorite Color: \" + self.favorite_color)\n",
    "        \n",
    "    def greet_user(self):\n",
    "        \"\"\"Method that prints a greeting message to the user.\"\"\"\n",
    "        print(\"Welcome, \" + self.first_name + \"!\")\n",
    "        \n",
    "    def increment_login_attempts(self):\n",
    "        \"\"\"Method that increments the number of login attempts by one\"\"\"\n",
    "        self.login_attempts += 1 \n",
    "    \n",
    "    def reset_login_attempts(self):\n",
    "        \"\"\"Method that resets the number of login attempts \"\"\"\n",
    "        self.login_attempts = 0\n",
    "        \n",
    "class Admin(User):\n",
    "    \n",
    "    \"\"\" Child class of User called Admin \"\"\"\n",
    "\n",
    "    def __init__(self, first_name, last_name, age, favorite_color,login_attempts):\n",
    "        \n",
    "        super().__init__(first_name,last_name,age,favorite_color,login_attempts)\n",
    "        \n",
    "        self.privileges = Privileges() #Empty set of privileges \n",
    "\n",
    "class Privileges(): \n",
    "   \n",
    "    def __init__(self,*privileges):\n",
    "        \n",
    "        self.privileges = privileges\n",
    "\n",
    "    def show_privileges(self):\n",
    "        \n",
    "        \"\"\"Prints out each of the admins privileges from the privileges list\"\"\"\n",
    "        \n",
    "        print(\"Here are the admins privileges: \")\n",
    "        \n",
    "        for privilege in self.privileges:\n",
    "            \n",
    "            print(privilege)\n",
    "            \n",
    "        \n",
    "marina_admin = Admin(\"Marina\",\"Rosado\",\"62\",\"black\",0)\n",
    "marina_admin.privileges.privileges = \"can add a person\",\"can remove a person\" #adding privileges to empty list attributes \n",
    "marina_admin.privileges.show_privileges() #showing privileges "
   ]
  },
  {
   "cell_type": "markdown",
   "metadata": {},
   "source": [
    "# Question Nine "
   ]
  },
  {
   "cell_type": "code",
   "execution_count": 10,
   "metadata": {},
   "outputs": [
    {
     "name": "stdout",
     "output_type": "stream",
     "text": [
      "This car has a 70-kWh battery.\n"
     ]
    }
   ],
   "source": [
    "class Car(): \n",
    "    \"\"\"A simple attempt to represent a car.\"\"\"\n",
    "    \n",
    "    def __init__(self,make,model,year):\n",
    "        \"\"\"Initialize attributes to describe a car.\"\"\"\n",
    "        self.make = make\n",
    "        self.model = model\n",
    "        self.year = year \n",
    "        self.odometer_reading = 0  \n",
    "    def get_descriptive_name(self):\n",
    "        \"\"\"Return a neatly formatted descriptive name.\"\"\"\n",
    "        long_name = str(self.year) + \" \" + self.make + \" \" + self.model\n",
    "        return long_name.title()\n",
    "   \n",
    "    def update_odometer(self,mileage): \n",
    "        \"\"\"Set the odometer reading to the given value.\"\"\"\n",
    "        if mileage >= self.odometer_reading:\n",
    "            self.odometer_reading = mileage \n",
    "            \n",
    "        else:\n",
    "            print(\"You can't roll back an odometer!\")\n",
    "            \n",
    "    def increment_odometer(self,miles):\n",
    "        \"\"\"Add the given amount to the odometer reading\"\"\"\n",
    "        self.odometer_reading += miles\n",
    "        \n",
    "            \n",
    "class ElectricCar(Car):\n",
    "    \"\"\"Reprents aspects of a car, specific to electric videos.\"\"\"\n",
    "    \n",
    "    def __init__(self,make,model,year):\n",
    "        \"\"\"Initialize the attributes of the parent class.\n",
    "        Then initialize the attributes specific to an electric car.\"\"\"\n",
    "        \n",
    "        super().__init__(make,model,year)\n",
    "        \n",
    "        self.battery = Battery()\n",
    "        \n",
    "class Battery(): \n",
    "    \"\"\"A simple attempt to model a battery for an electric car.\"\"\"\n",
    "    \n",
    "    def __init__(self,battery_size = 70):\n",
    "        \"\"\"Initialize the battery's attributes.\"\"\"\n",
    "        self.battery_size = battery_size\n",
    "    \n",
    "    def describe_battery(self):\n",
    "        \"\"\"Print a statement describing the battery size.\"\"\"\n",
    "        print(\"This car has a \" + str(self.battery_size) + \"-kWh battery.\")\n",
    "        \n",
    "    def get_range(self):\n",
    "        \"\"\"Print a statement about the range this battery provides.\"\"\"\n",
    "        if self.battery_size == 70:\n",
    "            range = 240\n",
    "            \n",
    "        elif self.battery_size == 85: \n",
    "            range == 270\n",
    "    \n",
    "    def upgrade_battery(self): \n",
    "        \n",
    "        if (self.battery_size == 70):\n",
    "            \n",
    "            self.battery_size = 85\n",
    "        \n",
    "my_car = ElectricCar(\"Tesla\",\"Cool\",2001)\n",
    "my_car.battery.describe_battery()\n",
    "my_car.\n",
    "        \n",
    "        "
   ]
  },
  {
   "cell_type": "markdown",
   "metadata": {},
   "source": [
    "# Question 13"
   ]
  },
  {
   "cell_type": "code",
   "execution_count": 1,
   "metadata": {},
   "outputs": [
    {
     "name": "stdout",
     "output_type": "stream",
     "text": [
      "\n",
      "C: A high-level and general-purpose programming language that is ideal for developing firmware or portable applications.\n",
      "\n",
      "Python: An nterpreted, object-oriented programming language similar to PERL, that has gained popularity because of its clear syntax and readability.\n",
      "\n",
      "Java: A high-level programming language developed by Sun Microsystems\n"
     ]
    }
   ],
   "source": [
    "from collections import OrderedDict\n",
    "\n",
    "programming_glossary = OrderedDict()\n",
    "\n",
    "# Constructing dictionary \n",
    "\n",
    "programming_glossary = {\n",
    "    \n",
    "    \"C\" : \" A high-level and general-purpose programming language that is ideal for developing firmware or portable applications.\",\n",
    "    \"Python\": \" An interpreted, object-oriented programming language similar to PERL, that has gained popularity because of its clear syntax and readability.\",\n",
    "    \"Java\": \" A high-level programming language developed by Sun Microsystems\"\n",
    "    \n",
    "}\n",
    "\n",
    "#Printing key value pairs \n",
    "\n",
    "for key,value in programming_glossary.items():\n",
    "    print(\"\\n\"+ key + \":\" + value)"
   ]
  },
  {
   "cell_type": "markdown",
   "metadata": {},
   "source": [
    "# Question 14 "
   ]
  },
  {
   "cell_type": "code",
   "execution_count": 13,
   "metadata": {},
   "outputs": [
    {
     "name": "stdout",
     "output_type": "stream",
     "text": [
      "Die 1 Rolls: \n",
      "1\n",
      "5\n",
      "1\n",
      "6\n",
      "4\n",
      "5\n",
      "5\n",
      "1\n",
      "6\n",
      "5\n",
      "\n",
      "Die 2 Rolls: \n",
      "10\n",
      "5\n",
      "10\n",
      "1\n",
      "8\n",
      "8\n",
      "8\n",
      "10\n",
      "5\n",
      "4\n",
      "\n",
      "Die 3 Rolls: \n",
      "3\n",
      "9\n",
      "10\n",
      "1\n",
      "8\n",
      "12\n",
      "8\n",
      "12\n",
      "14\n",
      "1\n"
     ]
    }
   ],
   "source": [
    "from random import randint\n",
    "\n",
    "class Die(): \n",
    "    \n",
    "    def __init__(self):\n",
    "        self.sides = 6\n",
    "        \n",
    "    def roll_die(self):\n",
    "        return randint(1,self.sides)\n",
    "\n",
    "die1 = Die()\n",
    "die2 = Die()\n",
    "die2.sides = 10\n",
    "die3 = Die()\n",
    "die3.sides = 20\n",
    "\n",
    "print(\"Die 1 Rolls: \")\n",
    "for roll in range(1,11):\n",
    "    print(die1.roll_die())\n",
    "    \n",
    "print(\"\\nDie 2 Rolls: \")\n",
    "for roll in range(1,11):\n",
    "    print(die2.roll_die())\n",
    "\n",
    "print(\"\\nDie 3 Rolls: \")\n",
    "for roll in range(1,11):\n",
    "    print(die3.roll_die())\n",
    "    \n",
    "\n",
    "\n",
    "  "
   ]
  },
  {
   "cell_type": "code",
   "execution_count": null,
   "metadata": {},
   "outputs": [],
   "source": []
  }
 ],
 "metadata": {
  "kernelspec": {
   "display_name": "Python 3",
   "language": "python",
   "name": "python3"
  },
  "language_info": {
   "codemirror_mode": {
    "name": "ipython",
    "version": 3
   },
   "file_extension": ".py",
   "mimetype": "text/x-python",
   "name": "python",
   "nbconvert_exporter": "python",
   "pygments_lexer": "ipython3",
   "version": "3.7.6"
  }
 },
 "nbformat": 4,
 "nbformat_minor": 4
}
