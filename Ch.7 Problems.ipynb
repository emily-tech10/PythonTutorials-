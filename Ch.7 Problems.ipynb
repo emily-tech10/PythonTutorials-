{
 "cells": [
  {
   "cell_type": "markdown",
   "metadata": {},
   "source": [
    "# Question One "
   ]
  },
  {
   "cell_type": "markdown",
   "metadata": {},
   "source": [
    "## Write a program that asks the user what kind of rental car they would like. Print a message about that car, such as \"Let me see if I can find you a Subaru.\" "
   ]
  },
  {
   "cell_type": "code",
   "execution_count": 2,
   "metadata": {},
   "outputs": [
    {
     "name": "stdin",
     "output_type": "stream",
     "text": [
      "What kind of rental car would you like?  Subaru\n"
     ]
    },
    {
     "name": "stdout",
     "output_type": "stream",
     "text": [
      "Let me see if I can find you a Subaru.\n"
     ]
    }
   ],
   "source": [
    "car = input(\"What kind of rental car would you like? \")\n",
    "\n",
    "print(\"Let me see if I can find you a \" + car + \".\")\n"
   ]
  },
  {
   "cell_type": "markdown",
   "metadata": {},
   "source": [
    "# Question Two "
   ]
  },
  {
   "cell_type": "markdown",
   "metadata": {},
   "source": [
    "## Write a program that asks the user how many people are in their dinner group. If the answer is more than 8, print a message saying they'll have to wait for a table. Otherwise report that their table is ready. "
   ]
  },
  {
   "cell_type": "code",
   "execution_count": 1,
   "metadata": {},
   "outputs": [
    {
     "name": "stdin",
     "output_type": "stream",
     "text": [
      "How many people are in your group tonight?  10\n"
     ]
    },
    {
     "name": "stdout",
     "output_type": "stream",
     "text": [
      "\n",
      "Sorry, it seems like you are going to have to wait for a table.\n"
     ]
    }
   ],
   "source": [
    "guests = input(\"How many people are in your group tonight? \")\n",
    "guests = int(guests)\n",
    "\n",
    "if guests > 8: \n",
    "    print(\"\\nSorry, it seems like you are going to have to wait for a table.\")\n",
    "\n",
    "else: \n",
    "    print(\"\\nPerfect! Your table is ready.\")"
   ]
  },
  {
   "cell_type": "markdown",
   "metadata": {},
   "source": [
    "# Question Three"
   ]
  },
  {
   "cell_type": "markdown",
   "metadata": {},
   "source": [
    "## Ask the user for a number and then report whether the number is a multiple of 10 or not. "
   ]
  },
  {
   "cell_type": "code",
   "execution_count": null,
   "metadata": {},
   "outputs": [],
   "source": [
    "number = input(\"Enter a number and I will tell you whether or not it is a multiple of 10.\")\n",
    "number = int(number)\n",
    "\n",
    "if number % 10 == 0: \n",
    "    print(\"The number \" + str(number) + \" is a multiple of 10.\")\n",
    "else:\n",
    "    print(\"The number \" + str(number) + \"is NOT a multiple of 10.\")"
   ]
  },
  {
   "cell_type": "markdown",
   "metadata": {},
   "source": [
    "# Question Four\n",
    "\n",
    "## Write a loop that prompts the user to enter a series of pizza toppings until they enter a 'quit' value. As they enter each toping, print a message saying you'll add that topping to their pizza. "
   ]
  },
  {
   "cell_type": "code",
   "execution_count": null,
   "metadata": {},
   "outputs": [],
   "source": [
    "prompt = \"Please enter a topping that you'd like on your pizza : \" + \"\\nType quit to stop the program.\"\n",
    "\n",
    "active = True; \n",
    "\n",
    "while active:\n",
    "    \n",
    "    message = input(prompt)\n",
    "    \n",
    "    if message == \"Quit\":\n",
    "        \n",
    "        active = False\n",
    "        \n",
    "    else:\n",
    "        print(\"Adding \" + message + \" to your order!\")"
   ]
  },
  {
   "cell_type": "markdown",
   "metadata": {},
   "source": [
    "# Question Five \n",
    "\n",
    "## A movie theatre charges different ticket prices depending on a person's age. If a person is under the age of 3, the ticket is free; if they are between 3 and 12, the ticket is 10, and if they are over age 12, the ticket is 10 . Write a loop in which you ask the users their age and then tell them the cost of their movie ticket "
   ]
  },
  {
   "cell_type": "code",
   "execution_count": 1,
   "metadata": {},
   "outputs": [
    {
     "name": "stdin",
     "output_type": "stream",
     "text": [
      "How old are you?\n",
      "Enter 'quit' when you are finished.  10\n"
     ]
    },
    {
     "name": "stdout",
     "output_type": "stream",
     "text": [
      "  Your ticket is $10.\n"
     ]
    },
    {
     "name": "stdin",
     "output_type": "stream",
     "text": [
      "How old are you?\n",
      "Enter 'quit' when you are finished.  12\n"
     ]
    },
    {
     "name": "stdout",
     "output_type": "stream",
     "text": [
      "  Your ticket is $10.\n"
     ]
    },
    {
     "name": "stdin",
     "output_type": "stream",
     "text": [
      "How old are you?\n",
      "Enter 'quit' when you are finished.  quit\n"
     ]
    }
   ],
   "source": [
    "prompt = \"How old are you?\"\n",
    "prompt += \"\\nEnter 'quit' when you are finished. \"\n",
    "\n",
    "while True:\n",
    "    age = input(prompt)\n",
    "    if age == 'quit':\n",
    "        break\n",
    "    age = int(age)\n",
    "\n",
    "    if age < 3:\n",
    "        print(\"  You get in free!\")\n",
    "    elif age < 13:\n",
    "        print(\"  Your ticket is $10.\")\n",
    "    else:\n",
    "        print(\"  Your ticket is $15.\")"
   ]
  },
  {
   "cell_type": "markdown",
   "metadata": {},
   "source": [
    "# Question Six \n",
    "\n",
    "## Make a list called sandwich_orders and fill it with the names of various sandwiches. Then make an empty list called finished_sandwiches. Loop through the list of sandwich orders and print a message for each order. As each sandwich is made, move it to the list of finished sandwiches. After all the sandwiches have been made, print a message that each sandwich was made. "
   ]
  },
  {
   "cell_type": "code",
   "execution_count": 4,
   "metadata": {},
   "outputs": [
    {
     "name": "stdout",
     "output_type": "stream",
     "text": [
      "Currently making your bacon egg and cheese sandwich!\n",
      "Currently making your ham and cheese sandwich!\n",
      "Currently making your BLT sandwich!\n",
      "Currently making your tuna sandwich!\n",
      "Your orders are all done!\n"
     ]
    }
   ],
   "source": [
    "sandwich_orders = [\"tuna sandwich\", \"BLT sandwich\", \"ham and cheese sandwich\", \"bacon egg and cheese sandwich\"]\n",
    "finished_sandwiches =[]\n",
    "\n",
    "while sandwich_orders:\n",
    "    \n",
    "    sandwich_progress = sandwich_orders.pop();\n",
    "    \n",
    "    print(\"Currently making your \" + sandwich_progress + \"!\")\n",
    "    \n",
    "    finished_sandwiches.append(sandwich_progress)\n",
    "    \n",
    "print(\"Your orders are all done!\")\n",
    "    \n",
    "    \n",
    "    \n",
    "    \n",
    "        "
   ]
  },
  {
   "cell_type": "markdown",
   "metadata": {},
   "source": [
    "# Question Seven\n",
    "\n",
    "## Using the list sandwich_orders from the previous exercise, make sure the sandwich 'pastrami' appears in the list at least three times. Add code near the beginning of your program to print a message saying the deli has run out of 'pastrami', and then use a while loop to remove all occurences of 'pastrami' from sandwich order . Make sure no pastrami sandwiches end up in finished_sandwiches \n"
   ]
  },
  {
   "cell_type": "code",
   "execution_count": 13,
   "metadata": {},
   "outputs": [
    {
     "name": "stdout",
     "output_type": "stream",
     "text": [
      "We have run out of pastrami sandwiches!\n",
      "The sandwiches we have available are: \n",
      "tuna sandwich\n",
      "BLT sandwich\n",
      "ham and cheese sandwich\n",
      "bacon egg and cheese sandwich\n",
      "Now, I will the prepare the sandwiches you have ordered: \n",
      "Currently preparing a bacon egg and cheese sandwich.\n",
      "Currently preparing a ham and cheese sandwich.\n",
      "Currently preparing a BLT sandwich.\n",
      "Currently preparing a tuna sandwich.\n",
      "All done with your order!\n"
     ]
    }
   ],
   "source": [
    "sandwich_orders = [\"tuna sandwich\", \"BLT sandwich\", \"ham and cheese sandwich\", \"bacon egg and cheese sandwich\", \"pastrami sandwich\", \"pastrami sandwich\",\"pastrami sandwich\"]\n",
    "finished_sandwiches =[]\n",
    "\n",
    "print(\"We have run out of pastrami sandwiches!\")\n",
    "\n",
    "while \"pastrami sandwich\" in sandwich_orders:\n",
    "    \n",
    "    sandwich_orders.remove(\"pastrami sandwich\")\n",
    "    \n",
    "print(\"The sandwiches we have available are: \")\n",
    "    \n",
    "for sandwich in sandwich_orders :\n",
    "    \n",
    "    print(sandwich)\n",
    "    \n",
    "print(\"Now, I will the prepare the sandwiches you have ordered: \")\n",
    "    \n",
    "while sandwich_orders: \n",
    "    \n",
    "    preparing = sandwich_orders.pop()\n",
    "    \n",
    "    print(\"Currently preparing a \" + preparing + \".\")\n",
    "    \n",
    "    finished_sandwiches.append(sandwich_orders)\n",
    "    \n",
    "print(\"All done with your order!\")\n",
    "    \n",
    "\n",
    "    \n",
    "\n"
   ]
  },
  {
   "cell_type": "markdown",
   "metadata": {},
   "source": [
    "# Question 8 \n",
    "\n",
    "## Write a program that polls users about their dream vacation. Include a block of code that prints the results of the poll"
   ]
  },
  {
   "cell_type": "code",
   "execution_count": 15,
   "metadata": {},
   "outputs": [
    {
     "name": "stdin",
     "output_type": "stream",
     "text": [
      "\n",
      "What is your name?  Emily \n",
      "Where is your dream vacation?  Punta Cana\n",
      "\n",
      "Would you like another person to response?(yes/no)  yes\n",
      "\n",
      "What is your name?  Mike \n",
      "Where is your dream vacation?  Ireland\n",
      "\n",
      "Would you like another person to response?(yes/no)  yes\n",
      "\n",
      "What is your name?  Spot\n",
      "Where is your dream vacation?  PetSmart\n",
      "\n",
      "Would you like another person to response?(yes/no)  no\n"
     ]
    },
    {
     "name": "stdout",
     "output_type": "stream",
     "text": [
      "\n",
      " --- Poll Results --- \n",
      "Emily  would like to visit Punta Cana.\n",
      "Mike  would like to visit Ireland.\n",
      "Spot would like to visit PetSmart.\n"
     ]
    }
   ],
   "source": [
    "responses = {} #empty dictionary\n",
    "\n",
    "polling_active = True #flag\n",
    "\n",
    "while polling_active:\n",
    "    \n",
    "    # Prompt for the person's name and response \n",
    "    \n",
    "    name = input(\"\\nWhat is your name? \")\n",
    "    response  = input(\"Where is your dream vacation? \")\n",
    "    \n",
    "    # Store the responses in the dictionary \n",
    "    \n",
    "    responses[name] = response #name is key response is value\n",
    "    \n",
    "    # Find out if anyone else is going to take the poll\n",
    "    \n",
    "    repeat = input(\"\\nWould you like another person to response?(yes/no) \")\n",
    "    \n",
    "    if repeat == 'no':\n",
    "        polling_active = False\n",
    "        \n",
    "# Polling is complete. Show the results. \n",
    "\n",
    "print(\"\\n --- Poll Results --- \")\n",
    "\n",
    "for name,result in responses.items():\n",
    "    print(name + \" would like to visit \" + result + \".\")\n",
    "    \n"
   ]
  },
  {
   "cell_type": "code",
   "execution_count": null,
   "metadata": {},
   "outputs": [],
   "source": []
  }
 ],
 "metadata": {
  "kernelspec": {
   "display_name": "Python 3",
   "language": "python",
   "name": "python3"
  },
  "language_info": {
   "codemirror_mode": {
    "name": "ipython",
    "version": 3
   },
   "file_extension": ".py",
   "mimetype": "text/x-python",
   "name": "python",
   "nbconvert_exporter": "python",
   "pygments_lexer": "ipython3",
   "version": "3.7.6"
  }
 },
 "nbformat": 4,
 "nbformat_minor": 4
}
